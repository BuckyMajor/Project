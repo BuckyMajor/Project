{
 "cells": [
  {
   "cell_type": "markdown",
   "id": "4073d00f",
   "metadata": {},
   "source": [
    "# User reviews classifier to predict of a product review will be useful for other users. (Data set Amazon)\n",
    "\n",
    "\n",
    "**Use Case**: As user prepares and submits a review, how can companies proactively identify reviews not to be posted towards an item that as not a helpful for other users?\n",
    "\n",
    "**Target Variable** Helpful response from other reviewers (this is a target variable that is constructed by a rating on actual reviews done by other users using the scale from vote or helpful)\n",
    "\n",
    "**Data Source** https://nijianmo.github.io/amazon/index.html\n",
    "\n"
   ]
  },
  {
   "cell_type": "code",
   "execution_count": 4,
   "id": "631b36ff",
   "metadata": {},
   "outputs": [],
   "source": [
    "import os\n",
    "import json\n",
    "import gzip\n",
    "import wget\n",
    "import pandas as pd\n",
    "from urllib.request import urlopen\n",
    "import seaborn as sns\n",
    "import plotly.express as px\n",
    "import matplotlib.pyplot as plt"
   ]
  },
  {
   "cell_type": "markdown",
   "id": "1f2e0520",
   "metadata": {},
   "source": [
    "# tested links\n",
    "- http://deepyeti.ucsd.edu/jianmo/amazon/categoryFilesSmall/Arts_Crafts_and_Sewing_5.json.gz - works\n",
    "- http://deepyeti.ucsd.edu/jianmo/amazon/categoryFilesSmall/Grocery_and_Gourmet_Food_5.json.gz - works\n"
   ]
  },
  {
   "cell_type": "code",
   "execution_count": 5,
   "id": "d33f6765",
   "metadata": {},
   "outputs": [],
   "source": [
    "##download data from url\n",
    "### randomly selected file to model\n",
    "url = 'http://deepyeti.ucsd.edu/jianmo/amazon/categoryFilesSmall/Grocery_and_Gourmet_Food_5.json.gz'\n",
    "filename = wget.download(url)\n"
   ]
  },
  {
   "cell_type": "code",
   "execution_count": 6,
   "id": "927aced5",
   "metadata": {},
   "outputs": [
    {
     "name": "stdout",
     "output_type": "stream",
     "text": [
      "1143860\n",
      "{'overall': 5.0, 'verified': True, 'reviewTime': '11 19, 2014', 'reviewerID': 'A1QVBUH9E1V6I8', 'asin': '4639725183', 'reviewerName': 'Jamshed Mathur', 'reviewText': 'No adverse comment.', 'summary': 'Five Stars', 'unixReviewTime': 1416355200}\n"
     ]
    }
   ],
   "source": [
    "#load metadata\n",
    "data = []\n",
    "with gzip.open('Grocery_and_Gourmet_Food_5.json.gz') as f:\n",
    "    for l in f:\n",
    "        data.append(json.loads(l.strip()))\n",
    "    \n",
    "# total length of list, this number equals total number of products\n",
    "print(len(data))\n",
    "\n",
    "# first row of the list\n",
    "print(data[0])"
   ]
  },
  {
   "cell_type": "code",
   "execution_count": 7,
   "id": "c5f31ccb",
   "metadata": {},
   "outputs": [
    {
     "name": "stdout",
     "output_type": "stream",
     "text": [
      "1143860\n"
     ]
    }
   ],
   "source": [
    "# convert list into pandas dataframe\n",
    "\n",
    "df = pd.DataFrame.from_dict(data)\n",
    "\n",
    "print(len(df))\n"
   ]
  },
  {
   "cell_type": "code",
   "execution_count": 8,
   "id": "2f9015e1",
   "metadata": {},
   "outputs": [
    {
     "name": "stdout",
     "output_type": "stream",
     "text": [
      "<class 'pandas.core.frame.DataFrame'>\n",
      "RangeIndex: 1143860 entries, 0 to 1143859\n",
      "Data columns (total 12 columns):\n",
      " #   Column          Non-Null Count    Dtype  \n",
      "---  ------          --------------    -----  \n",
      " 0   overall         1143860 non-null  float64\n",
      " 1   verified        1143860 non-null  bool   \n",
      " 2   reviewTime      1143860 non-null  object \n",
      " 3   reviewerID      1143860 non-null  object \n",
      " 4   asin            1143860 non-null  object \n",
      " 5   reviewerName    1143722 non-null  object \n",
      " 6   reviewText      1143470 non-null  object \n",
      " 7   summary         1143641 non-null  object \n",
      " 8   unixReviewTime  1143860 non-null  int64  \n",
      " 9   vote            158202 non-null   object \n",
      " 10  style           592086 non-null   object \n",
      " 11  image           9510 non-null     object \n",
      "dtypes: bool(1), float64(1), int64(1), object(9)\n",
      "memory usage: 97.1+ MB\n"
     ]
    },
    {
     "data": {
      "text/html": [
       "<div>\n",
       "<style scoped>\n",
       "    .dataframe tbody tr th:only-of-type {\n",
       "        vertical-align: middle;\n",
       "    }\n",
       "\n",
       "    .dataframe tbody tr th {\n",
       "        vertical-align: top;\n",
       "    }\n",
       "\n",
       "    .dataframe thead th {\n",
       "        text-align: right;\n",
       "    }\n",
       "</style>\n",
       "<table border=\"1\" class=\"dataframe\">\n",
       "  <thead>\n",
       "    <tr style=\"text-align: right;\">\n",
       "      <th></th>\n",
       "      <th>overall</th>\n",
       "      <th>verified</th>\n",
       "      <th>reviewTime</th>\n",
       "      <th>reviewerID</th>\n",
       "      <th>asin</th>\n",
       "      <th>reviewerName</th>\n",
       "      <th>reviewText</th>\n",
       "      <th>summary</th>\n",
       "      <th>unixReviewTime</th>\n",
       "      <th>vote</th>\n",
       "      <th>style</th>\n",
       "      <th>image</th>\n",
       "    </tr>\n",
       "  </thead>\n",
       "  <tbody>\n",
       "    <tr>\n",
       "      <th>0</th>\n",
       "      <td>5.0</td>\n",
       "      <td>True</td>\n",
       "      <td>11 19, 2014</td>\n",
       "      <td>A1QVBUH9E1V6I8</td>\n",
       "      <td>4639725183</td>\n",
       "      <td>Jamshed Mathur</td>\n",
       "      <td>No adverse comment.</td>\n",
       "      <td>Five Stars</td>\n",
       "      <td>1416355200</td>\n",
       "      <td>NaN</td>\n",
       "      <td>NaN</td>\n",
       "      <td>NaN</td>\n",
       "    </tr>\n",
       "    <tr>\n",
       "      <th>1</th>\n",
       "      <td>5.0</td>\n",
       "      <td>True</td>\n",
       "      <td>10 13, 2016</td>\n",
       "      <td>A3GEOILWLK86XM</td>\n",
       "      <td>4639725183</td>\n",
       "      <td>itsjustme</td>\n",
       "      <td>Gift for college student.</td>\n",
       "      <td>Great product.</td>\n",
       "      <td>1476316800</td>\n",
       "      <td>NaN</td>\n",
       "      <td>NaN</td>\n",
       "      <td>NaN</td>\n",
       "    </tr>\n",
       "    <tr>\n",
       "      <th>2</th>\n",
       "      <td>5.0</td>\n",
       "      <td>True</td>\n",
       "      <td>11 21, 2015</td>\n",
       "      <td>A32RD6L701BIGP</td>\n",
       "      <td>4639725183</td>\n",
       "      <td>Krystal Clifton</td>\n",
       "      <td>If you like strong tea, this is for you. It mi...</td>\n",
       "      <td>Strong</td>\n",
       "      <td>1448064000</td>\n",
       "      <td>NaN</td>\n",
       "      <td>NaN</td>\n",
       "      <td>NaN</td>\n",
       "    </tr>\n",
       "    <tr>\n",
       "      <th>3</th>\n",
       "      <td>5.0</td>\n",
       "      <td>True</td>\n",
       "      <td>08 12, 2015</td>\n",
       "      <td>A2UY1O1FBGKIE6</td>\n",
       "      <td>4639725183</td>\n",
       "      <td>U. Kane</td>\n",
       "      <td>Love the tea. The flavor is way better than th...</td>\n",
       "      <td>Great tea</td>\n",
       "      <td>1439337600</td>\n",
       "      <td>NaN</td>\n",
       "      <td>NaN</td>\n",
       "      <td>NaN</td>\n",
       "    </tr>\n",
       "    <tr>\n",
       "      <th>4</th>\n",
       "      <td>5.0</td>\n",
       "      <td>True</td>\n",
       "      <td>05 28, 2015</td>\n",
       "      <td>A3QHVBQYDV7Z6U</td>\n",
       "      <td>4639725183</td>\n",
       "      <td>The Nana</td>\n",
       "      <td>I have searched everywhere until I browsed Ama...</td>\n",
       "      <td>This is the tea I remembered!</td>\n",
       "      <td>1432771200</td>\n",
       "      <td>NaN</td>\n",
       "      <td>NaN</td>\n",
       "      <td>NaN</td>\n",
       "    </tr>\n",
       "    <tr>\n",
       "      <th>...</th>\n",
       "      <td>...</td>\n",
       "      <td>...</td>\n",
       "      <td>...</td>\n",
       "      <td>...</td>\n",
       "      <td>...</td>\n",
       "      <td>...</td>\n",
       "      <td>...</td>\n",
       "      <td>...</td>\n",
       "      <td>...</td>\n",
       "      <td>...</td>\n",
       "      <td>...</td>\n",
       "      <td>...</td>\n",
       "    </tr>\n",
       "    <tr>\n",
       "      <th>1143855</th>\n",
       "      <td>5.0</td>\n",
       "      <td>True</td>\n",
       "      <td>09 8, 2017</td>\n",
       "      <td>A223YRQH2Z5T1D</td>\n",
       "      <td>B01HJF6FRA</td>\n",
       "      <td>flint5292</td>\n",
       "      <td>As a new vegan, it is sometimes difficult to r...</td>\n",
       "      <td>As a new vegan, it is sometimes difficult to ...</td>\n",
       "      <td>1504828800</td>\n",
       "      <td>4</td>\n",
       "      <td>NaN</td>\n",
       "      <td>NaN</td>\n",
       "    </tr>\n",
       "    <tr>\n",
       "      <th>1143856</th>\n",
       "      <td>5.0</td>\n",
       "      <td>True</td>\n",
       "      <td>08 4, 2017</td>\n",
       "      <td>A38GDA4TB9EILT</td>\n",
       "      <td>B01HJF6FRA</td>\n",
       "      <td>Moriah Bolyard</td>\n",
       "      <td>The best thing ever is ordering a product you ...</td>\n",
       "      <td>The best thing ever is ordering a product you ...</td>\n",
       "      <td>1501804800</td>\n",
       "      <td>3</td>\n",
       "      <td>NaN</td>\n",
       "      <td>NaN</td>\n",
       "    </tr>\n",
       "    <tr>\n",
       "      <th>1143857</th>\n",
       "      <td>5.0</td>\n",
       "      <td>True</td>\n",
       "      <td>07 4, 2017</td>\n",
       "      <td>A2025PN7HDC5BO</td>\n",
       "      <td>B01HJF6FRA</td>\n",
       "      <td>M.C</td>\n",
       "      <td>I used to love ranch before I became vegan. It...</td>\n",
       "      <td>Just what the vegan ordered!</td>\n",
       "      <td>1499126400</td>\n",
       "      <td>5</td>\n",
       "      <td>NaN</td>\n",
       "      <td>NaN</td>\n",
       "    </tr>\n",
       "    <tr>\n",
       "      <th>1143858</th>\n",
       "      <td>5.0</td>\n",
       "      <td>True</td>\n",
       "      <td>06 7, 2017</td>\n",
       "      <td>A1NY7XWC7EPQOA</td>\n",
       "      <td>B01HJF6FRA</td>\n",
       "      <td>Greensboro</td>\n",
       "      <td>I cannot have dairy nor gluten.  This is as cl...</td>\n",
       "      <td>This is as close to Ranch as I will ever be ab...</td>\n",
       "      <td>1496793600</td>\n",
       "      <td>2</td>\n",
       "      <td>NaN</td>\n",
       "      <td>NaN</td>\n",
       "    </tr>\n",
       "    <tr>\n",
       "      <th>1143859</th>\n",
       "      <td>3.0</td>\n",
       "      <td>True</td>\n",
       "      <td>05 20, 2017</td>\n",
       "      <td>A1P0X9E6F99J4T</td>\n",
       "      <td>B01HJF6FRA</td>\n",
       "      <td>Qoyllor</td>\n",
       "      <td>Needs improvement to make it taste like real r...</td>\n",
       "      <td>So so</td>\n",
       "      <td>1495238400</td>\n",
       "      <td>NaN</td>\n",
       "      <td>NaN</td>\n",
       "      <td>NaN</td>\n",
       "    </tr>\n",
       "  </tbody>\n",
       "</table>\n",
       "<p>1143860 rows × 12 columns</p>\n",
       "</div>"
      ],
      "text/plain": [
       "         overall  verified   reviewTime      reviewerID        asin  \\\n",
       "0            5.0      True  11 19, 2014  A1QVBUH9E1V6I8  4639725183   \n",
       "1            5.0      True  10 13, 2016  A3GEOILWLK86XM  4639725183   \n",
       "2            5.0      True  11 21, 2015  A32RD6L701BIGP  4639725183   \n",
       "3            5.0      True  08 12, 2015  A2UY1O1FBGKIE6  4639725183   \n",
       "4            5.0      True  05 28, 2015  A3QHVBQYDV7Z6U  4639725183   \n",
       "...          ...       ...          ...             ...         ...   \n",
       "1143855      5.0      True   09 8, 2017  A223YRQH2Z5T1D  B01HJF6FRA   \n",
       "1143856      5.0      True   08 4, 2017  A38GDA4TB9EILT  B01HJF6FRA   \n",
       "1143857      5.0      True   07 4, 2017  A2025PN7HDC5BO  B01HJF6FRA   \n",
       "1143858      5.0      True   06 7, 2017  A1NY7XWC7EPQOA  B01HJF6FRA   \n",
       "1143859      3.0      True  05 20, 2017  A1P0X9E6F99J4T  B01HJF6FRA   \n",
       "\n",
       "            reviewerName                                         reviewText  \\\n",
       "0         Jamshed Mathur                                No adverse comment.   \n",
       "1              itsjustme                          Gift for college student.   \n",
       "2        Krystal Clifton  If you like strong tea, this is for you. It mi...   \n",
       "3                U. Kane  Love the tea. The flavor is way better than th...   \n",
       "4               The Nana  I have searched everywhere until I browsed Ama...   \n",
       "...                  ...                                                ...   \n",
       "1143855        flint5292  As a new vegan, it is sometimes difficult to r...   \n",
       "1143856   Moriah Bolyard  The best thing ever is ordering a product you ...   \n",
       "1143857              M.C  I used to love ranch before I became vegan. It...   \n",
       "1143858       Greensboro  I cannot have dairy nor gluten.  This is as cl...   \n",
       "1143859          Qoyllor  Needs improvement to make it taste like real r...   \n",
       "\n",
       "                                                   summary  unixReviewTime  \\\n",
       "0                                               Five Stars      1416355200   \n",
       "1                                           Great product.      1476316800   \n",
       "2                                                   Strong      1448064000   \n",
       "3                                                Great tea      1439337600   \n",
       "4                            This is the tea I remembered!      1432771200   \n",
       "...                                                    ...             ...   \n",
       "1143855   As a new vegan, it is sometimes difficult to ...      1504828800   \n",
       "1143856  The best thing ever is ordering a product you ...      1501804800   \n",
       "1143857                       Just what the vegan ordered!      1499126400   \n",
       "1143858  This is as close to Ranch as I will ever be ab...      1496793600   \n",
       "1143859                                              So so      1495238400   \n",
       "\n",
       "        vote style image  \n",
       "0        NaN   NaN   NaN  \n",
       "1        NaN   NaN   NaN  \n",
       "2        NaN   NaN   NaN  \n",
       "3        NaN   NaN   NaN  \n",
       "4        NaN   NaN   NaN  \n",
       "...      ...   ...   ...  \n",
       "1143855    4   NaN   NaN  \n",
       "1143856    3   NaN   NaN  \n",
       "1143857    5   NaN   NaN  \n",
       "1143858    2   NaN   NaN  \n",
       "1143859  NaN   NaN   NaN  \n",
       "\n",
       "[1143860 rows x 12 columns]"
      ]
     },
     "metadata": {},
     "output_type": "display_data"
    }
   ],
   "source": [
    "#look at dataframe\n",
    "df.info()\n",
    "display(df)\n"
   ]
  },
  {
   "cell_type": "markdown",
   "id": "1b76b9a0",
   "metadata": {},
   "source": [
    "### Data catalogue\n",
    "\n",
    "- __overall:__- Rating of the Product\n",
    "- __reviewTime:__- Time of the review (raw)\n",
    "- __reviewerID:__- ID of the reviewer, e.g. A2SUAM1J3GNN3B\n",
    "- __asin:__- ID of the product, e.g. 0000013714\n",
    "- __style:__- A disctionary of the product metadata, e.g., \"Format\" is \"Hardcover\"\n",
    "- __reviewerName:__- Name of the reviewer\n",
    "- __reviewerText:__- Text of the review\n",
    "- __summary:__- Summary of the review\n",
    "- __vote:__- Helpful votes of the review\n",
    "- __unixReviewTime:__- Time of the review (unix time)\n",
    "- __reviewText:__- Text of the review\n",
    "- __image:__- Images that users post after they have received the product"
   ]
  },
  {
   "cell_type": "markdown",
   "id": "124ef86a",
   "metadata": {},
   "source": [
    "#### Remove Columns"
   ]
  },
  {
   "cell_type": "code",
   "execution_count": 9,
   "id": "131a42b8",
   "metadata": {},
   "outputs": [
    {
     "data": {
      "application/vnd.plotly.v1+json": {
       "config": {
        "plotlyServerURL": "https://plot.ly"
       },
       "data": [
        {
         "alignmentgroup": "True",
         "hovertemplate": "Type=Missingness<br>Feature=%{x}<br>Missing %=%{y}<extra></extra>",
         "legendgroup": "Missingness",
         "marker": {
          "color": "red",
          "opacity": 0.6,
          "pattern": {
           "shape": ""
          }
         },
         "name": "Missingness",
         "offsetgroup": "Missingness",
         "orientation": "v",
         "showlegend": true,
         "textposition": "auto",
         "type": "bar",
         "x": [
          "overall",
          "verified",
          "reviewTime",
          "reviewerID",
          "asin",
          "unixReviewTime",
          "reviewerName",
          "summary",
          "reviewText",
          "style",
          "vote",
          "image"
         ],
         "xaxis": "x",
         "y": [
          0,
          0,
          0,
          0,
          0,
          0,
          0.0121,
          0.0191,
          0.0341,
          48.2379,
          86.1695,
          99.1686
         ],
         "yaxis": "y"
        },
        {
         "alignmentgroup": "True",
         "hovertemplate": "Type=Completeness<br>Feature=%{x}<br>Missing %=%{y}<extra></extra>",
         "legendgroup": "Completeness",
         "marker": {
          "color": "#808080",
          "opacity": 0.6,
          "pattern": {
           "shape": ""
          }
         },
         "name": "Completeness",
         "offsetgroup": "Completeness",
         "orientation": "v",
         "showlegend": true,
         "textposition": "auto",
         "type": "bar",
         "x": [
          "overall",
          "verified",
          "reviewTime",
          "reviewerID",
          "asin",
          "reviewerName",
          "reviewText",
          "summary",
          "unixReviewTime",
          "vote",
          "style",
          "image"
         ],
         "xaxis": "x",
         "y": [
          100,
          100,
          100,
          100,
          100,
          99,
          99,
          99,
          100,
          13,
          51,
          0
         ],
         "yaxis": "y"
        }
       ],
       "layout": {
        "barmode": "relative",
        "height": 800,
        "legend": {
         "title": {
          "text": "Type"
         },
         "tracegroupgap": 0
        },
        "template": {
         "data": {
          "bar": [
           {
            "error_x": {
             "color": "#2a3f5f"
            },
            "error_y": {
             "color": "#2a3f5f"
            },
            "marker": {
             "line": {
              "color": "#E5ECF6",
              "width": 0.5
             },
             "pattern": {
              "fillmode": "overlay",
              "size": 10,
              "solidity": 0.2
             }
            },
            "type": "bar"
           }
          ],
          "barpolar": [
           {
            "marker": {
             "line": {
              "color": "#E5ECF6",
              "width": 0.5
             },
             "pattern": {
              "fillmode": "overlay",
              "size": 10,
              "solidity": 0.2
             }
            },
            "type": "barpolar"
           }
          ],
          "carpet": [
           {
            "aaxis": {
             "endlinecolor": "#2a3f5f",
             "gridcolor": "white",
             "linecolor": "white",
             "minorgridcolor": "white",
             "startlinecolor": "#2a3f5f"
            },
            "baxis": {
             "endlinecolor": "#2a3f5f",
             "gridcolor": "white",
             "linecolor": "white",
             "minorgridcolor": "white",
             "startlinecolor": "#2a3f5f"
            },
            "type": "carpet"
           }
          ],
          "choropleth": [
           {
            "colorbar": {
             "outlinewidth": 0,
             "ticks": ""
            },
            "type": "choropleth"
           }
          ],
          "contour": [
           {
            "colorbar": {
             "outlinewidth": 0,
             "ticks": ""
            },
            "colorscale": [
             [
              0,
              "#0d0887"
             ],
             [
              0.1111111111111111,
              "#46039f"
             ],
             [
              0.2222222222222222,
              "#7201a8"
             ],
             [
              0.3333333333333333,
              "#9c179e"
             ],
             [
              0.4444444444444444,
              "#bd3786"
             ],
             [
              0.5555555555555556,
              "#d8576b"
             ],
             [
              0.6666666666666666,
              "#ed7953"
             ],
             [
              0.7777777777777778,
              "#fb9f3a"
             ],
             [
              0.8888888888888888,
              "#fdca26"
             ],
             [
              1,
              "#f0f921"
             ]
            ],
            "type": "contour"
           }
          ],
          "contourcarpet": [
           {
            "colorbar": {
             "outlinewidth": 0,
             "ticks": ""
            },
            "type": "contourcarpet"
           }
          ],
          "heatmap": [
           {
            "colorbar": {
             "outlinewidth": 0,
             "ticks": ""
            },
            "colorscale": [
             [
              0,
              "#0d0887"
             ],
             [
              0.1111111111111111,
              "#46039f"
             ],
             [
              0.2222222222222222,
              "#7201a8"
             ],
             [
              0.3333333333333333,
              "#9c179e"
             ],
             [
              0.4444444444444444,
              "#bd3786"
             ],
             [
              0.5555555555555556,
              "#d8576b"
             ],
             [
              0.6666666666666666,
              "#ed7953"
             ],
             [
              0.7777777777777778,
              "#fb9f3a"
             ],
             [
              0.8888888888888888,
              "#fdca26"
             ],
             [
              1,
              "#f0f921"
             ]
            ],
            "type": "heatmap"
           }
          ],
          "heatmapgl": [
           {
            "colorbar": {
             "outlinewidth": 0,
             "ticks": ""
            },
            "colorscale": [
             [
              0,
              "#0d0887"
             ],
             [
              0.1111111111111111,
              "#46039f"
             ],
             [
              0.2222222222222222,
              "#7201a8"
             ],
             [
              0.3333333333333333,
              "#9c179e"
             ],
             [
              0.4444444444444444,
              "#bd3786"
             ],
             [
              0.5555555555555556,
              "#d8576b"
             ],
             [
              0.6666666666666666,
              "#ed7953"
             ],
             [
              0.7777777777777778,
              "#fb9f3a"
             ],
             [
              0.8888888888888888,
              "#fdca26"
             ],
             [
              1,
              "#f0f921"
             ]
            ],
            "type": "heatmapgl"
           }
          ],
          "histogram": [
           {
            "marker": {
             "pattern": {
              "fillmode": "overlay",
              "size": 10,
              "solidity": 0.2
             }
            },
            "type": "histogram"
           }
          ],
          "histogram2d": [
           {
            "colorbar": {
             "outlinewidth": 0,
             "ticks": ""
            },
            "colorscale": [
             [
              0,
              "#0d0887"
             ],
             [
              0.1111111111111111,
              "#46039f"
             ],
             [
              0.2222222222222222,
              "#7201a8"
             ],
             [
              0.3333333333333333,
              "#9c179e"
             ],
             [
              0.4444444444444444,
              "#bd3786"
             ],
             [
              0.5555555555555556,
              "#d8576b"
             ],
             [
              0.6666666666666666,
              "#ed7953"
             ],
             [
              0.7777777777777778,
              "#fb9f3a"
             ],
             [
              0.8888888888888888,
              "#fdca26"
             ],
             [
              1,
              "#f0f921"
             ]
            ],
            "type": "histogram2d"
           }
          ],
          "histogram2dcontour": [
           {
            "colorbar": {
             "outlinewidth": 0,
             "ticks": ""
            },
            "colorscale": [
             [
              0,
              "#0d0887"
             ],
             [
              0.1111111111111111,
              "#46039f"
             ],
             [
              0.2222222222222222,
              "#7201a8"
             ],
             [
              0.3333333333333333,
              "#9c179e"
             ],
             [
              0.4444444444444444,
              "#bd3786"
             ],
             [
              0.5555555555555556,
              "#d8576b"
             ],
             [
              0.6666666666666666,
              "#ed7953"
             ],
             [
              0.7777777777777778,
              "#fb9f3a"
             ],
             [
              0.8888888888888888,
              "#fdca26"
             ],
             [
              1,
              "#f0f921"
             ]
            ],
            "type": "histogram2dcontour"
           }
          ],
          "mesh3d": [
           {
            "colorbar": {
             "outlinewidth": 0,
             "ticks": ""
            },
            "type": "mesh3d"
           }
          ],
          "parcoords": [
           {
            "line": {
             "colorbar": {
              "outlinewidth": 0,
              "ticks": ""
             }
            },
            "type": "parcoords"
           }
          ],
          "pie": [
           {
            "automargin": true,
            "type": "pie"
           }
          ],
          "scatter": [
           {
            "fillpattern": {
             "fillmode": "overlay",
             "size": 10,
             "solidity": 0.2
            },
            "type": "scatter"
           }
          ],
          "scatter3d": [
           {
            "line": {
             "colorbar": {
              "outlinewidth": 0,
              "ticks": ""
             }
            },
            "marker": {
             "colorbar": {
              "outlinewidth": 0,
              "ticks": ""
             }
            },
            "type": "scatter3d"
           }
          ],
          "scattercarpet": [
           {
            "marker": {
             "colorbar": {
              "outlinewidth": 0,
              "ticks": ""
             }
            },
            "type": "scattercarpet"
           }
          ],
          "scattergeo": [
           {
            "marker": {
             "colorbar": {
              "outlinewidth": 0,
              "ticks": ""
             }
            },
            "type": "scattergeo"
           }
          ],
          "scattergl": [
           {
            "marker": {
             "colorbar": {
              "outlinewidth": 0,
              "ticks": ""
             }
            },
            "type": "scattergl"
           }
          ],
          "scattermapbox": [
           {
            "marker": {
             "colorbar": {
              "outlinewidth": 0,
              "ticks": ""
             }
            },
            "type": "scattermapbox"
           }
          ],
          "scatterpolar": [
           {
            "marker": {
             "colorbar": {
              "outlinewidth": 0,
              "ticks": ""
             }
            },
            "type": "scatterpolar"
           }
          ],
          "scatterpolargl": [
           {
            "marker": {
             "colorbar": {
              "outlinewidth": 0,
              "ticks": ""
             }
            },
            "type": "scatterpolargl"
           }
          ],
          "scatterternary": [
           {
            "marker": {
             "colorbar": {
              "outlinewidth": 0,
              "ticks": ""
             }
            },
            "type": "scatterternary"
           }
          ],
          "surface": [
           {
            "colorbar": {
             "outlinewidth": 0,
             "ticks": ""
            },
            "colorscale": [
             [
              0,
              "#0d0887"
             ],
             [
              0.1111111111111111,
              "#46039f"
             ],
             [
              0.2222222222222222,
              "#7201a8"
             ],
             [
              0.3333333333333333,
              "#9c179e"
             ],
             [
              0.4444444444444444,
              "#bd3786"
             ],
             [
              0.5555555555555556,
              "#d8576b"
             ],
             [
              0.6666666666666666,
              "#ed7953"
             ],
             [
              0.7777777777777778,
              "#fb9f3a"
             ],
             [
              0.8888888888888888,
              "#fdca26"
             ],
             [
              1,
              "#f0f921"
             ]
            ],
            "type": "surface"
           }
          ],
          "table": [
           {
            "cells": {
             "fill": {
              "color": "#EBF0F8"
             },
             "line": {
              "color": "white"
             }
            },
            "header": {
             "fill": {
              "color": "#C8D4E3"
             },
             "line": {
              "color": "white"
             }
            },
            "type": "table"
           }
          ]
         },
         "layout": {
          "annotationdefaults": {
           "arrowcolor": "#2a3f5f",
           "arrowhead": 0,
           "arrowwidth": 1
          },
          "autotypenumbers": "strict",
          "coloraxis": {
           "colorbar": {
            "outlinewidth": 0,
            "ticks": ""
           }
          },
          "colorscale": {
           "diverging": [
            [
             0,
             "#8e0152"
            ],
            [
             0.1,
             "#c51b7d"
            ],
            [
             0.2,
             "#de77ae"
            ],
            [
             0.3,
             "#f1b6da"
            ],
            [
             0.4,
             "#fde0ef"
            ],
            [
             0.5,
             "#f7f7f7"
            ],
            [
             0.6,
             "#e6f5d0"
            ],
            [
             0.7,
             "#b8e186"
            ],
            [
             0.8,
             "#7fbc41"
            ],
            [
             0.9,
             "#4d9221"
            ],
            [
             1,
             "#276419"
            ]
           ],
           "sequential": [
            [
             0,
             "#0d0887"
            ],
            [
             0.1111111111111111,
             "#46039f"
            ],
            [
             0.2222222222222222,
             "#7201a8"
            ],
            [
             0.3333333333333333,
             "#9c179e"
            ],
            [
             0.4444444444444444,
             "#bd3786"
            ],
            [
             0.5555555555555556,
             "#d8576b"
            ],
            [
             0.6666666666666666,
             "#ed7953"
            ],
            [
             0.7777777777777778,
             "#fb9f3a"
            ],
            [
             0.8888888888888888,
             "#fdca26"
            ],
            [
             1,
             "#f0f921"
            ]
           ],
           "sequentialminus": [
            [
             0,
             "#0d0887"
            ],
            [
             0.1111111111111111,
             "#46039f"
            ],
            [
             0.2222222222222222,
             "#7201a8"
            ],
            [
             0.3333333333333333,
             "#9c179e"
            ],
            [
             0.4444444444444444,
             "#bd3786"
            ],
            [
             0.5555555555555556,
             "#d8576b"
            ],
            [
             0.6666666666666666,
             "#ed7953"
            ],
            [
             0.7777777777777778,
             "#fb9f3a"
            ],
            [
             0.8888888888888888,
             "#fdca26"
            ],
            [
             1,
             "#f0f921"
            ]
           ]
          },
          "colorway": [
           "#636efa",
           "#EF553B",
           "#00cc96",
           "#ab63fa",
           "#FFA15A",
           "#19d3f3",
           "#FF6692",
           "#B6E880",
           "#FF97FF",
           "#FECB52"
          ],
          "font": {
           "color": "#2a3f5f"
          },
          "geo": {
           "bgcolor": "white",
           "lakecolor": "white",
           "landcolor": "#E5ECF6",
           "showlakes": true,
           "showland": true,
           "subunitcolor": "white"
          },
          "hoverlabel": {
           "align": "left"
          },
          "hovermode": "closest",
          "mapbox": {
           "style": "light"
          },
          "paper_bgcolor": "white",
          "plot_bgcolor": "#E5ECF6",
          "polar": {
           "angularaxis": {
            "gridcolor": "white",
            "linecolor": "white",
            "ticks": ""
           },
           "bgcolor": "#E5ECF6",
           "radialaxis": {
            "gridcolor": "white",
            "linecolor": "white",
            "ticks": ""
           }
          },
          "scene": {
           "xaxis": {
            "backgroundcolor": "#E5ECF6",
            "gridcolor": "white",
            "gridwidth": 2,
            "linecolor": "white",
            "showbackground": true,
            "ticks": "",
            "zerolinecolor": "white"
           },
           "yaxis": {
            "backgroundcolor": "#E5ECF6",
            "gridcolor": "white",
            "gridwidth": 2,
            "linecolor": "white",
            "showbackground": true,
            "ticks": "",
            "zerolinecolor": "white"
           },
           "zaxis": {
            "backgroundcolor": "#E5ECF6",
            "gridcolor": "white",
            "gridwidth": 2,
            "linecolor": "white",
            "showbackground": true,
            "ticks": "",
            "zerolinecolor": "white"
           }
          },
          "shapedefaults": {
           "line": {
            "color": "#2a3f5f"
           }
          },
          "ternary": {
           "aaxis": {
            "gridcolor": "white",
            "linecolor": "white",
            "ticks": ""
           },
           "baxis": {
            "gridcolor": "white",
            "linecolor": "white",
            "ticks": ""
           },
           "bgcolor": "#E5ECF6",
           "caxis": {
            "gridcolor": "white",
            "linecolor": "white",
            "ticks": ""
           }
          },
          "title": {
           "x": 0.05
          },
          "xaxis": {
           "automargin": true,
           "gridcolor": "white",
           "linecolor": "white",
           "ticks": "",
           "title": {
            "standoff": 15
           },
           "zerolinecolor": "white",
           "zerolinewidth": 2
          },
          "yaxis": {
           "automargin": true,
           "gridcolor": "white",
           "linecolor": "white",
           "ticks": "",
           "title": {
            "standoff": 15
           },
           "zerolinecolor": "white",
           "zerolinewidth": 2
          }
         }
        },
        "title": {
         "text": "Missingness Plot (N=1143860)"
        },
        "width": 800,
        "xaxis": {
         "anchor": "y",
         "domain": [
          0,
          1
         ],
         "title": {
          "text": "Feature"
         }
        },
        "yaxis": {
         "anchor": "x",
         "domain": [
          0,
          1
         ],
         "title": {
          "text": "Missing %"
         }
        }
       }
      }
     },
     "metadata": {},
     "output_type": "display_data"
    }
   ],
   "source": [
    "# Any missing values in the dataset\n",
    "def plot_missingness(df: pd.DataFrame=df) -> None:\n",
    "    nan_df = pd.DataFrame(df.isna().sum()).reset_index()\n",
    "    nan_df.columns  = ['Column', 'NaN_Count']\n",
    "    nan_df['NaN_Count'] = nan_df['NaN_Count'].astype('int')\n",
    "    nan_df['NaN_%'] = round(nan_df['NaN_Count']/df.shape[0] * 100,4)\n",
    "    nan_df['Type']  = 'Missingness'\n",
    "    nan_df.sort_values('NaN_%', inplace=True)\n",
    "\n",
    "    # Add completeness\n",
    "    for i in range(nan_df.shape[0]):\n",
    "        complete_df = pd.DataFrame([nan_df.loc[i,'Column'],df.shape[0] - nan_df.loc[i,'NaN_Count'],100 - nan_df.loc[i,'NaN_%'], 'Completeness']).T\n",
    "        complete_df.columns  = ['Column','NaN_Count','NaN_%','Type']\n",
    "        complete_df['NaN_%'] = complete_df['NaN_%'].astype('int')\n",
    "        complete_df['NaN_Count'] = complete_df['NaN_Count'].astype('int')\n",
    "        nan_df = pd.concat([nan_df,complete_df], sort=True)\n",
    "            \n",
    "    nan_df = nan_df.rename(columns={\"Column\": \"Feature\", \"NaN_%\": \"Missing %\"})\n",
    "\n",
    "    # Missingness Plot\n",
    "    fig = px.bar(nan_df,\n",
    "                 x='Feature',\n",
    "                 y='Missing %',\n",
    "                 title=f\"Missingness Plot (N={df.shape[0]})\",\n",
    "                 color='Type',\n",
    "                 opacity = 0.6,\n",
    "                 color_discrete_sequence=['red','#808080'],\n",
    "                 width=800,\n",
    "                 height=800)\n",
    "    fig.show()\n",
    "\n",
    "plot_missingness(df)"
   ]
  },
  {
   "cell_type": "code",
   "execution_count": 10,
   "id": "8128ebfc",
   "metadata": {},
   "outputs": [
    {
     "name": "stdout",
     "output_type": "stream",
     "text": [
      "<class 'pandas.core.frame.DataFrame'>\n",
      "RangeIndex: 1143860 entries, 0 to 1143859\n",
      "Data columns (total 9 columns):\n",
      " #   Column          Non-Null Count    Dtype  \n",
      "---  ------          --------------    -----  \n",
      " 0   overall         1143860 non-null  float64\n",
      " 1   verified        1143860 non-null  bool   \n",
      " 2   reviewTime      1143860 non-null  object \n",
      " 3   reviewerID      1143860 non-null  object \n",
      " 4   asin            1143860 non-null  object \n",
      " 5   reviewerName    1143722 non-null  object \n",
      " 6   reviewText      1143470 non-null  object \n",
      " 7   unixReviewTime  1143860 non-null  int64  \n",
      " 8   vote            158202 non-null   object \n",
      "dtypes: bool(1), float64(1), int64(1), object(6)\n",
      "memory usage: 70.9+ MB\n"
     ]
    }
   ],
   "source": [
    "#clean data\n",
    "#drop columns that don't impact\n",
    "df = df.drop(['style','summary','image'], axis=1)\n",
    "\n",
    "df.info()"
   ]
  },
  {
   "cell_type": "code",
   "execution_count": 11,
   "id": "03f3ae8f",
   "metadata": {},
   "outputs": [],
   "source": [
    "#convert column to string\n",
    "df[\"reviewText\"]=df[\"reviewText\"].astype(str)"
   ]
  },
  {
   "cell_type": "code",
   "execution_count": 12,
   "id": "5115353e",
   "metadata": {},
   "outputs": [
    {
     "name": "stdout",
     "output_type": "stream",
     "text": [
      "<class 'pandas.core.frame.DataFrame'>\n",
      "RangeIndex: 1143860 entries, 0 to 1143859\n",
      "Data columns (total 9 columns):\n",
      " #   Column          Non-Null Count    Dtype  \n",
      "---  ------          --------------    -----  \n",
      " 0   overall         1143860 non-null  float64\n",
      " 1   verified        1143860 non-null  bool   \n",
      " 2   reviewTime      1143860 non-null  object \n",
      " 3   reviewerID      1143860 non-null  object \n",
      " 4   asin            1143860 non-null  object \n",
      " 5   reviewerName    1143722 non-null  object \n",
      " 6   reviewText      1143860 non-null  object \n",
      " 7   unixReviewTime  1143860 non-null  int64  \n",
      " 8   vote            158202 non-null   float64\n",
      "dtypes: bool(1), float64(2), int64(1), object(5)\n",
      "memory usage: 70.9+ MB\n"
     ]
    }
   ],
   "source": [
    "#convert vote column to float\n",
    "\n",
    "\n",
    "df[\"vote\"]= df[\"vote\"].fillna(0)\n",
    "df['vote']=df['vote'].str.replace(',','')\n",
    "\n",
    "df[\"vote\"] = df[\"vote\"].astype(float)\n",
    "df.info()"
   ]
  },
  {
   "cell_type": "code",
   "execution_count": 13,
   "id": "afeb04a5",
   "metadata": {},
   "outputs": [
    {
     "data": {
      "image/png": "[encoded data removed]",
      "text/plain": [
       "<Figure size 1000x600 with 1 Axes>"
      ]
     },
     "metadata": {},
     "output_type": "display_data"
    }
   ],
   "source": [
    "#create graph to check review distribution\n",
    "category_dist = df['overall'].value_counts()\n",
    "\n",
    "plt.figure(figsize=(10,6))\n",
    "my_colors = ['g', 'r', 'b', 'm', 'y']\n",
    "category_dist.plot(kind='bar', color=my_colors)\n",
    "plt.grid()\n",
    "plt.xlabel(\"Scores\")\n",
    "plt.ylabel(\"Number of Reviews Per Score\")\n",
    "plt.title(\"Distribution of Reviews Per Score\")\n",
    "plt.show()"
   ]
  },
  {
   "cell_type": "code",
   "execution_count": 14,
   "id": "a8803a02",
   "metadata": {},
   "outputs": [
    {
     "data": {
      "image/png": "[encoded data removed]",
      "text/plain": [
       "<Figure size 1000x600 with 1 Axes>"
      ]
     },
     "metadata": {},
     "output_type": "display_data"
    }
   ],
   "source": [
    "#create graphs to check helpfullness distribution\n",
    "category_dist = df['vote'].value_counts()\n",
    "\n",
    "plt.figure(figsize=(10,6))\n",
    "my_colors = ['g', 'r', 'b', 'm', 'y']\n",
    "category_dist.plot(kind='bar', color=my_colors)\n",
    "plt.grid()\n",
    "plt.xlabel(\"Scores\")\n",
    "plt.ylabel(\"Number of Reviews Per Helpful Vote\")\n",
    "plt.title(\"Distribution of Reviews Per Helpful Vote\")\n",
    "plt.show()"
   ]
  },
  {
   "cell_type": "code",
   "execution_count": 15,
   "id": "657a28c2",
   "metadata": {},
   "outputs": [
    {
     "name": "stdout",
     "output_type": "stream",
     "text": [
      "average length of review: 208.585\n"
     ]
    },
    {
     "data": {
      "image/png": "[encoded data removed]",
      "text/plain": [
       "<Figure size 640x480 with 1 Axes>"
      ]
     },
     "metadata": {},
     "output_type": "display_data"
    }
   ],
   "source": [
    "#look at comment length\n",
    "x = [len(df['reviewText'][i]) for i in range(df['reviewText'].shape[0])]\n",
    "\n",
    "print('average length of review: {:.3f}'.format(sum(x)/len(x)) )\n",
    "bins = [1,200,400,600,800,1000,1200]\n",
    "plt.hist(x, bins=bins)\n",
    "plt.xlabel('Length of comments')\n",
    "plt.ylabel('Number of comments')       \n",
    "plt.axis([0, 1200, 0, 90000])\n",
    "plt.grid(True)\n",
    "plt.show()"
   ]
  },
  {
   "cell_type": "markdown",
   "id": "45840550",
   "metadata": {},
   "source": [
    "### Naive Bayes\n",
    "\n",
    "Group 'overall' into 2 categories for simple Naive Bayes and the run a multinomial Naive Bayes."
   ]
  },
  {
   "cell_type": "code",
   "execution_count": 16,
   "id": "3d031d88",
   "metadata": {},
   "outputs": [],
   "source": [
    "#Import Naive Bayes\n",
    "\n",
    "from sklearn.feature_extraction.text import CountVectorizer\n",
    "from sklearn.feature_extraction.text import TfidfVectorizer\n",
    "from sklearn.naive_bayes import MultinomialNB\n",
    "from sklearn.metrics import ConfusionMatrixDisplay, confusion_matrix\n",
    "from sklearn.metrics import classification_report"
   ]
  },
  {
   "cell_type": "code",
   "execution_count": 17,
   "id": "92536680",
   "metadata": {},
   "outputs": [
    {
     "data": {
      "text/plain": [
       "<bound method DataFrame.dropna of                                                 reviewText  overall\n",
       "0                                      No adverse comment.      5.0\n",
       "1                                Gift for college student.      5.0\n",
       "2        If you like strong tea, this is for you. It mi...      5.0\n",
       "3        Love the tea. The flavor is way better than th...      5.0\n",
       "4        I have searched everywhere until I browsed Ama...      5.0\n",
       "...                                                    ...      ...\n",
       "1143855  As a new vegan, it is sometimes difficult to r...      5.0\n",
       "1143856  The best thing ever is ordering a product you ...      5.0\n",
       "1143857  I used to love ranch before I became vegan. It...      5.0\n",
       "1143858  I cannot have dairy nor gluten.  This is as cl...      5.0\n",
       "1143859  Needs improvement to make it taste like real r...      3.0\n",
       "\n",
       "[1143860 rows x 2 columns]>"
      ]
     },
     "execution_count": 17,
     "metadata": {},
     "output_type": "execute_result"
    }
   ],
   "source": [
    "#Naive Bayes\n",
    "cv = CountVectorizer()\n",
    "tfidf = TfidfVectorizer()\n",
    "\n",
    "dfNB = df[['reviewText', 'overall']]\n",
    "\n",
    "dfNB.dropna"
   ]
  },
  {
   "cell_type": "code",
   "execution_count": 18,
   "id": "f0c211b1",
   "metadata": {},
   "outputs": [],
   "source": [
    "#Set range for binary target variable and rename column\n",
    "dfNB.loc[dfNB['overall']>=3 ,'overall']=1\n",
    "dfNB.loc[dfNB['overall']<3 ,'overall']=0\n",
    "\n",
    "\n",
    "dfNB = dfNB.rename(columns = {'overall':'target'})"
   ]
  },
  {
   "cell_type": "code",
   "execution_count": 19,
   "id": "6b77814b",
   "metadata": {},
   "outputs": [
    {
     "name": "stdout",
     "output_type": "stream",
     "text": [
      "No. of training examples: 915088\n",
      "No. of testing examples: 228772\n"
     ]
    }
   ],
   "source": [
    "#Create Train-Test Split\n",
    "#https://towardsdatascience.com/how-to-split-a-dataset-into-training-and-testing-sets-b146b1649830\n",
    "\n",
    "from sklearn.model_selection import train_test_split\n",
    "\n",
    "training_data, testing_data = train_test_split(dfNB, test_size=0.2, random_state=25)\n",
    "\n",
    "print(f\"No. of training examples: {training_data.shape[0]}\")\n",
    "print(f\"No. of testing examples: {testing_data.shape[0]}\")"
   ]
  },
  {
   "cell_type": "code",
   "execution_count": 20,
   "id": "d9d6932c",
   "metadata": {},
   "outputs": [],
   "source": [
    "the_count = CountVectorizer()\n",
    "\n",
    "Xtrain = the_count.fit_transform(training_data['reviewText'])"
   ]
  },
  {
   "cell_type": "code",
   "execution_count": 21,
   "id": "5db1570e",
   "metadata": {},
   "outputs": [
    {
     "ename": "MemoryError",
     "evalue": "Unable to allocate 737. GiB for an array with shape (915088, 108031) and data type int64",
     "output_type": "error",
     "traceback": [
      "\u001b[1;31m---------------------------------------------------------------------------\u001b[0m",
      "\u001b[1;31mMemoryError\u001b[0m                               Traceback (most recent call last)",
      "Cell \u001b[1;32mIn [21], line 1\u001b[0m\n\u001b[1;32m----> 1\u001b[0m Xtrain \u001b[39m=\u001b[39m Xtrain\u001b[39m.\u001b[39;49mtoarray()\n\u001b[0;32m      3\u001b[0m reverse \u001b[39m=\u001b[39m {j:i \u001b[39mfor\u001b[39;00m i,j \u001b[39min\u001b[39;00m the_count\u001b[39m.\u001b[39mvocabulary_\u001b[39m.\u001b[39mitems()}\n",
      "File \u001b[1;32mc:\\Users\\Owner\\AppData\\Local\\Programs\\Python\\Python310\\lib\\site-packages\\scipy\\sparse\\_compressed.py:1051\u001b[0m, in \u001b[0;36m_cs_matrix.toarray\u001b[1;34m(self, order, out)\u001b[0m\n\u001b[0;32m   1049\u001b[0m \u001b[39mif\u001b[39;00m out \u001b[39mis\u001b[39;00m \u001b[39mNone\u001b[39;00m \u001b[39mand\u001b[39;00m order \u001b[39mis\u001b[39;00m \u001b[39mNone\u001b[39;00m:\n\u001b[0;32m   1050\u001b[0m     order \u001b[39m=\u001b[39m \u001b[39mself\u001b[39m\u001b[39m.\u001b[39m_swap(\u001b[39m'\u001b[39m\u001b[39mcf\u001b[39m\u001b[39m'\u001b[39m)[\u001b[39m0\u001b[39m]\n\u001b[1;32m-> 1051\u001b[0m out \u001b[39m=\u001b[39m \u001b[39mself\u001b[39;49m\u001b[39m.\u001b[39;49m_process_toarray_args(order, out)\n\u001b[0;32m   1052\u001b[0m \u001b[39mif\u001b[39;00m \u001b[39mnot\u001b[39;00m (out\u001b[39m.\u001b[39mflags\u001b[39m.\u001b[39mc_contiguous \u001b[39mor\u001b[39;00m out\u001b[39m.\u001b[39mflags\u001b[39m.\u001b[39mf_contiguous):\n\u001b[0;32m   1053\u001b[0m     \u001b[39mraise\u001b[39;00m \u001b[39mValueError\u001b[39;00m(\u001b[39m'\u001b[39m\u001b[39mOutput array must be C or F contiguous\u001b[39m\u001b[39m'\u001b[39m)\n",
      "File \u001b[1;32mc:\\Users\\Owner\\AppData\\Local\\Programs\\Python\\Python310\\lib\\site-packages\\scipy\\sparse\\_base.py:1298\u001b[0m, in \u001b[0;36mspmatrix._process_toarray_args\u001b[1;34m(self, order, out)\u001b[0m\n\u001b[0;32m   1296\u001b[0m     \u001b[39mreturn\u001b[39;00m out\n\u001b[0;32m   1297\u001b[0m \u001b[39melse\u001b[39;00m:\n\u001b[1;32m-> 1298\u001b[0m     \u001b[39mreturn\u001b[39;00m np\u001b[39m.\u001b[39;49mzeros(\u001b[39mself\u001b[39;49m\u001b[39m.\u001b[39;49mshape, dtype\u001b[39m=\u001b[39;49m\u001b[39mself\u001b[39;49m\u001b[39m.\u001b[39;49mdtype, order\u001b[39m=\u001b[39;49morder)\n",
      "\u001b[1;31mMemoryError\u001b[0m: Unable to allocate 737. GiB for an array with shape (915088, 108031) and data type int64"
     ]
    }
   ],
   "source": [
    "Xtrain = Xtrain.toarray()\n",
    "\n",
    "reverse = {j:i for i,j in the_count.vocabulary_.items()}"
   ]
  },
  {
   "cell_type": "code",
   "execution_count": null,
   "id": "dc88ebc1",
   "metadata": {},
   "outputs": [],
   "source": [
    "#Fit Naive Bayes model\n",
    "\n",
    "nb = MultinomialNB()\n",
    "nb.fit(Xtrain, training_data['target'])"
   ]
  },
  {
   "cell_type": "code",
   "execution_count": null,
   "id": "73d769da",
   "metadata": {},
   "outputs": [],
   "source": [
    "Xtest = the_count.transform(testing_data['reviewText'])\n",
    "preds = nb.predict(Xtest.toarray())"
   ]
  },
  {
   "cell_type": "code",
   "execution_count": null,
   "id": "72d27720",
   "metadata": {},
   "outputs": [],
   "source": [
    "preds.shape"
   ]
  },
  {
   "cell_type": "code",
   "execution_count": null,
   "id": "6b48215d",
   "metadata": {},
   "outputs": [],
   "source": [
    "print(classification_report(testing_data['target'],preds))"
   ]
  },
  {
   "cell_type": "code",
   "execution_count": null,
   "id": "9f9cca7d",
   "metadata": {},
   "outputs": [],
   "source": [
    "# plot the confusion matrix\n",
    "\n",
    "cnf_matrix = confusion_matrix(testing_data['target'],preds)\n",
    "\n",
    "print(cnf_matrix)"
   ]
  },
  {
   "cell_type": "markdown",
   "id": "618532bc",
   "metadata": {},
   "source": [
    "# NLP"
   ]
  },
  {
   "cell_type": "code",
   "execution_count": null,
   "id": "ed6a7e04",
   "metadata": {},
   "outputs": [],
   "source": [
    "import nltk\n",
    "\n",
    "nltk.download([\n",
    "    \"names\",\n",
    "    \"stopwords\",\n",
    "    \"averaged_perceptron_tagger\",\n",
    "    \"vader_lexicon\",\n",
    "    \"punkt\",\n",
    "])"
   ]
  },
  {
   "cell_type": "code",
   "execution_count": null,
   "id": "bf6223c3",
   "metadata": {},
   "outputs": [],
   "source": [
    "#removes stopwords that are not impactful to text reading\n",
    "#stop words include\n",
    "#{‘ourselves’, ‘hers’, ‘between’, ‘yourself’, ‘but’, ‘again’, ‘there’, ‘about’, ‘once’, ‘during’, ‘out’, ‘very’, ‘having’, ‘with’, ‘they’, ‘own’, ‘an’, ‘be’, ‘some’, ‘for’, ‘do’, ‘its’, ‘yours’, ‘such’, ‘into’, ‘of’, ‘most’, ‘itself’, ‘other’, ‘off’, ‘is’, ‘s’, ‘am’, ‘or’, ‘who’, ‘as’, ‘from’, ‘him’, ‘each’, ‘the’, ‘themselves’, ‘until’, ‘below’, ‘are’, ‘we’, ‘these’, ‘your’, ‘his’, ‘through’, ‘don’, ‘nor’, ‘me’, ‘were’, ‘her’, ‘more’, ‘himself’, ‘this’, ‘down’, ‘should’, ‘our’, ‘their’, ‘while’, ‘above’, ‘both’, ‘up’, ‘to’, ‘ours’, ‘had’, ‘she’, ‘all’, ‘no’, ‘when’, ‘at’, ‘any’, ‘before’, ‘them’, ‘same’, ‘and’, ‘been’, ‘have’, ‘in’, ‘will’, ‘on’, ‘does’, ‘yourselves’, ‘then’, ‘that’, ‘because’, ‘what’, ‘over’, ‘why’, ‘so’, ‘can’, ‘did’, ‘not’, ‘now’, ‘under’, ‘he’, ‘you’, ‘herself’, ‘has’, ‘just’, ‘where’, ‘too’, ‘only’, ‘myself’, ‘which’, ‘those’, ‘i’, ‘after’, ‘few’, ‘whom’, ‘t’, ‘being’, ‘if’, ‘theirs’, ‘my’, ‘against’, ‘a’, ‘by’, ‘doing’, ‘it’, ‘how’, ‘further’, ‘was’, ‘here’, ‘than’} \n",
    "\n",
    "stopwords = nltk.corpus.stopwords.words(\"english\")\n",
    "stopwords"
   ]
  },
  {
   "cell_type": "code",
   "execution_count": null,
   "id": "bec3dab2",
   "metadata": {},
   "outputs": [],
   "source": [
    "#import pprint and tokenize test\n",
    "from pprint import pprint\n",
    "pprint(nltk.word_tokenize(df['reviewText'][0]), width=79, compact=True)"
   ]
  }
 ],
 "metadata": {
  "kernelspec": {
   "display_name": "Python 3.10.7 64-bit",
   "language": "python",
   "name": "python3"
  },
  "language_info": {
   "codemirror_mode": {
    "name": "ipython",
    "version": 3
   },
   "file_extension": ".py",
   "mimetype": "text/x-python",
   "name": "python",
   "nbconvert_exporter": "python",
   "pygments_lexer": "ipython3",
   "version": "3.10.7"
  },
  "vscode": {
   "interpreter": {
    "hash": "c2ed1c1e3dda2d1d09010f3df351d528d97a393444344645f0fddd23da56b409"
   }
  }
 },
 "nbformat": 4,
 "nbformat_minor": 5
}
